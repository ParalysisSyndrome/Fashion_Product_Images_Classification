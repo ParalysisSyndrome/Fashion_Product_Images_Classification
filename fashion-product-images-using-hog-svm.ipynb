{
 "cells": [
  {
   "cell_type": "code",
   "execution_count": 1,
   "id": "f9087c78",
   "metadata": {
    "execution": {
     "iopub.execute_input": "2021-08-07T15:06:37.799500Z",
     "iopub.status.busy": "2021-08-07T15:06:37.798376Z",
     "iopub.status.idle": "2021-08-07T15:06:39.961875Z",
     "shell.execute_reply": "2021-08-07T15:06:39.961232Z",
     "shell.execute_reply.started": "2021-08-07T14:22:31.635252Z"
    },
    "id": "1YJwpHys3kb-",
    "papermill": {
     "duration": 2.183923,
     "end_time": "2021-08-07T15:06:39.962022",
     "exception": false,
     "start_time": "2021-08-07T15:06:37.778099",
     "status": "completed"
    },
    "tags": []
   },
   "outputs": [],
   "source": [
    "import cv2 as cv\n",
    "import numpy as np\n",
    "import matplotlib.pyplot as plt\n",
    "import os\n",
    "import time\n",
    "import pandas as pd\n",
    "import seaborn as sns\n",
    "import tqdm\n",
    "from skimage import feature\n",
    "from skimage.feature import hog\n",
    "\n",
    "from sklearn.preprocessing import LabelEncoder\n",
    "from sklearn.model_selection import train_test_split\n",
    "from sklearn.svm import SVC\n",
    "from sklearn.metrics import (accuracy_score, precision_score, recall_score, f1_score, \n",
    "                             classification_report, confusion_matrix, roc_auc_score)\n",
    "from sklearn.model_selection import (StratifiedKFold, train_test_split, \n",
    "                                     GridSearchCV, cross_val_score)\n",
    "from sklearn.metrics import precision_recall_curve\n",
    "from sklearn.metrics import auc\n",
    "from sklearn.multiclass import OneVsRestClassifier"
   ]
  },
  {
   "cell_type": "markdown",
   "id": "fbf22109",
   "metadata": {
    "id": "sZlpPkcNXmrW",
    "papermill": {
     "duration": 0.015883,
     "end_time": "2021-08-07T15:06:39.994809",
     "exception": false,
     "start_time": "2021-08-07T15:06:39.978926",
     "status": "completed"
    },
    "tags": []
   },
   "source": [
    "### Preprocessing"
   ]
  },
  {
   "cell_type": "code",
   "execution_count": 2,
   "id": "c95eaca6",
   "metadata": {
    "execution": {
     "iopub.execute_input": "2021-08-07T15:06:40.036144Z",
     "iopub.status.busy": "2021-08-07T15:06:40.035577Z",
     "iopub.status.idle": "2021-08-07T15:06:40.137702Z",
     "shell.execute_reply": "2021-08-07T15:06:40.137101Z",
     "shell.execute_reply.started": "2021-08-07T13:59:19.926502Z"
    },
    "id": "NqcvstPc3kZn",
    "outputId": "c9328229-adfe-4693-f690-1bc806b8db9a",
    "papermill": {
     "duration": 0.124709,
     "end_time": "2021-08-07T15:06:40.137822",
     "exception": false,
     "start_time": "2021-08-07T15:06:40.013113",
     "status": "completed"
    },
    "tags": []
   },
   "outputs": [
    {
     "name": "stderr",
     "output_type": "stream",
     "text": [
      "b'Skipping line 6044: expected 10 fields, saw 11\\nSkipping line 6569: expected 10 fields, saw 11\\nSkipping line 7399: expected 10 fields, saw 11\\nSkipping line 7939: expected 10 fields, saw 11\\nSkipping line 9026: expected 10 fields, saw 11\\n'\n"
     ]
    },
    {
     "data": {
      "text/html": [
       "<div>\n",
       "<style scoped>\n",
       "    .dataframe tbody tr th:only-of-type {\n",
       "        vertical-align: middle;\n",
       "    }\n",
       "\n",
       "    .dataframe tbody tr th {\n",
       "        vertical-align: top;\n",
       "    }\n",
       "\n",
       "    .dataframe thead th {\n",
       "        text-align: right;\n",
       "    }\n",
       "</style>\n",
       "<table border=\"1\" class=\"dataframe\">\n",
       "  <thead>\n",
       "    <tr style=\"text-align: right;\">\n",
       "      <th></th>\n",
       "      <th>id</th>\n",
       "      <th>masterCategory</th>\n",
       "    </tr>\n",
       "  </thead>\n",
       "  <tbody>\n",
       "    <tr>\n",
       "      <th>9995</th>\n",
       "      <td>10748</td>\n",
       "      <td>Footwear</td>\n",
       "    </tr>\n",
       "    <tr>\n",
       "      <th>9996</th>\n",
       "      <td>37956</td>\n",
       "      <td>Footwear</td>\n",
       "    </tr>\n",
       "    <tr>\n",
       "      <th>9997</th>\n",
       "      <td>40038</td>\n",
       "      <td>Accessories</td>\n",
       "    </tr>\n",
       "    <tr>\n",
       "      <th>9998</th>\n",
       "      <td>38122</td>\n",
       "      <td>Apparel</td>\n",
       "    </tr>\n",
       "    <tr>\n",
       "      <th>9999</th>\n",
       "      <td>59929</td>\n",
       "      <td>Apparel</td>\n",
       "    </tr>\n",
       "  </tbody>\n",
       "</table>\n",
       "</div>"
      ],
      "text/plain": [
       "         id masterCategory\n",
       "9995  10748       Footwear\n",
       "9996  37956       Footwear\n",
       "9997  40038    Accessories\n",
       "9998  38122        Apparel\n",
       "9999  59929        Apparel"
      ]
     },
     "execution_count": 2,
     "metadata": {},
     "output_type": "execute_result"
    }
   ],
   "source": [
    "# Read data\n",
    "style = pd.read_csv('../input/fashion-product-images-small/styles.csv', nrows=10000, error_bad_lines=False)\n",
    "#style['image'] = style.apply(lambda row: str(row['id'])+'.jpg', axis=1)\n",
    "style = style.drop(['year','season','gender','subCategory','articleType',\n",
    "                    'baseColour','usage','productDisplayName'], axis=1)\n",
    "\n",
    "style.dropna(how='any', inplace=True)\n",
    "style.reset_index(drop=True, inplace=True)\n",
    "style.tail()"
   ]
  },
  {
   "cell_type": "code",
   "execution_count": 3,
   "id": "44a0417e",
   "metadata": {
    "execution": {
     "iopub.execute_input": "2021-08-07T15:06:40.169216Z",
     "iopub.status.busy": "2021-08-07T15:06:40.168765Z",
     "iopub.status.idle": "2021-08-07T15:06:40.480961Z",
     "shell.execute_reply": "2021-08-07T15:06:40.481386Z",
     "shell.execute_reply.started": "2021-08-07T13:59:27.135013Z"
    },
    "id": "1XUKwLCi3kT_",
    "outputId": "1d8bc316-92ca-407a-d88a-82c0755214c3",
    "papermill": {
     "duration": 0.331084,
     "end_time": "2021-08-07T15:06:40.481511",
     "exception": false,
     "start_time": "2021-08-07T15:06:40.150427",
     "status": "completed"
    },
    "tags": []
   },
   "outputs": [
    {
     "data": {
      "image/png": "[encoded data removed]",
      "text/plain": [
       "<Figure size 432x288 with 1 Axes>"
      ]
     },
     "metadata": {
      "needs_background": "light"
     },
     "output_type": "display_data"
    }
   ],
   "source": [
    "sns.countplot(y=style.masterCategory)\n",
    "#plt.xticks(rotation=90)\n",
    "plt.show()"
   ]
  },
  {
   "cell_type": "code",
   "execution_count": 4,
   "id": "0f3b46a4",
   "metadata": {
    "execution": {
     "iopub.execute_input": "2021-08-07T15:06:40.512622Z",
     "iopub.status.busy": "2021-08-07T15:06:40.512146Z",
     "iopub.status.idle": "2021-08-07T15:11:28.578265Z",
     "shell.execute_reply": "2021-08-07T15:11:28.578647Z",
     "shell.execute_reply.started": "2021-08-07T14:00:02.928702Z"
    },
    "id": "bTyISjTINooO",
    "outputId": "7793596b-576c-42d2-d59a-99a2206946ab",
    "papermill": {
     "duration": 288.084941,
     "end_time": "2021-08-07T15:11:28.578771",
     "exception": false,
     "start_time": "2021-08-07T15:06:40.493830",
     "status": "completed"
    },
    "tags": []
   },
   "outputs": [
    {
     "name": "stdout",
     "output_type": "stream",
     "text": [
      "44441\n"
     ]
    }
   ],
   "source": [
    "file_images=[]\n",
    "dir = '../input/fashion-product-images-small/images/'\n",
    "for file in os.listdir(dir):\n",
    "    id = file.split('.')[0]\n",
    "    path = os.path.join(dir+file)\n",
    "    img = cv.imread(path, cv.IMREAD_GRAYSCALE)\n",
    "    img_resize = cv.resize(img, (60, 80), interpolation=cv.INTER_AREA)\n",
    "    file_images.append([id, img_resize])\n",
    "\n",
    "print(len(file_images))"
   ]
  },
  {
   "cell_type": "code",
   "execution_count": 5,
   "id": "8d03463d",
   "metadata": {
    "execution": {
     "iopub.execute_input": "2021-08-07T15:11:28.620045Z",
     "iopub.status.busy": "2021-08-07T15:11:28.619536Z",
     "iopub.status.idle": "2021-08-07T15:11:29.243306Z",
     "shell.execute_reply": "2021-08-07T15:11:29.242887Z",
     "shell.execute_reply.started": "2021-08-07T14:07:33.678418Z"
    },
    "id": "rBDakI2vUDg9",
    "outputId": "5b156f24-aed0-487d-8fb8-c37731800cac",
    "papermill": {
     "duration": 0.652234,
     "end_time": "2021-08-07T15:11:29.243411",
     "exception": false,
     "start_time": "2021-08-07T15:11:28.591177",
     "status": "completed"
    },
    "tags": []
   },
   "outputs": [
    {
     "data": {
      "text/html": [
       "<div>\n",
       "<style scoped>\n",
       "    .dataframe tbody tr th:only-of-type {\n",
       "        vertical-align: middle;\n",
       "    }\n",
       "\n",
       "    .dataframe tbody tr th {\n",
       "        vertical-align: top;\n",
       "    }\n",
       "\n",
       "    .dataframe thead th {\n",
       "        text-align: right;\n",
       "    }\n",
       "</style>\n",
       "<table border=\"1\" class=\"dataframe\">\n",
       "  <thead>\n",
       "    <tr style=\"text-align: right;\">\n",
       "      <th></th>\n",
       "      <th>id</th>\n",
       "      <th>image</th>\n",
       "    </tr>\n",
       "  </thead>\n",
       "  <tbody>\n",
       "    <tr>\n",
       "      <th>0</th>\n",
       "      <td>31973</td>\n",
       "      <td>[[255, 255, 255, 255, 255, 255, 255, 255, 255,...</td>\n",
       "    </tr>\n",
       "    <tr>\n",
       "      <th>1</th>\n",
       "      <td>30778</td>\n",
       "      <td>[[255, 255, 255, 255, 255, 255, 255, 255, 255,...</td>\n",
       "    </tr>\n",
       "    <tr>\n",
       "      <th>2</th>\n",
       "      <td>19812</td>\n",
       "      <td>[[255, 255, 255, 255, 255, 255, 255, 255, 255,...</td>\n",
       "    </tr>\n",
       "    <tr>\n",
       "      <th>3</th>\n",
       "      <td>22735</td>\n",
       "      <td>[[255, 255, 255, 255, 255, 255, 255, 255, 255,...</td>\n",
       "    </tr>\n",
       "    <tr>\n",
       "      <th>4</th>\n",
       "      <td>38246</td>\n",
       "      <td>[[255, 255, 255, 255, 255, 255, 255, 255, 255,...</td>\n",
       "    </tr>\n",
       "  </tbody>\n",
       "</table>\n",
       "</div>"
      ],
      "text/plain": [
       "      id                                              image\n",
       "0  31973  [[255, 255, 255, 255, 255, 255, 255, 255, 255,...\n",
       "1  30778  [[255, 255, 255, 255, 255, 255, 255, 255, 255,...\n",
       "2  19812  [[255, 255, 255, 255, 255, 255, 255, 255, 255,...\n",
       "3  22735  [[255, 255, 255, 255, 255, 255, 255, 255, 255,...\n",
       "4  38246  [[255, 255, 255, 255, 255, 255, 255, 255, 255,..."
      ]
     },
     "execution_count": 5,
     "metadata": {},
     "output_type": "execute_result"
    }
   ],
   "source": [
    "# Convert to DataFrame\n",
    "labels_df = pd.DataFrame(file_images, columns=['id','image'])\n",
    "labels_df['id'] = labels_df['id'].astype(int)    # Make sure id columns dtype is int\n",
    "labels_df.head()"
   ]
  },
  {
   "cell_type": "code",
   "execution_count": 6,
   "id": "9fb8e224",
   "metadata": {
    "execution": {
     "iopub.execute_input": "2021-08-07T15:11:29.274067Z",
     "iopub.status.busy": "2021-08-07T15:11:29.273597Z",
     "iopub.status.idle": "2021-08-07T15:11:29.916091Z",
     "shell.execute_reply": "2021-08-07T15:11:29.915709Z",
     "shell.execute_reply.started": "2021-08-07T14:07:34.228773Z"
    },
    "id": "V6yUnvB3TRR8",
    "outputId": "5818dc1a-e553-41e7-e28a-bf0044fbecbc",
    "papermill": {
     "duration": 0.65981,
     "end_time": "2021-08-07T15:11:29.916219",
     "exception": false,
     "start_time": "2021-08-07T15:11:29.256409",
     "status": "completed"
    },
    "tags": []
   },
   "outputs": [
    {
     "data": {
      "text/html": [
       "<div>\n",
       "<style scoped>\n",
       "    .dataframe tbody tr th:only-of-type {\n",
       "        vertical-align: middle;\n",
       "    }\n",
       "\n",
       "    .dataframe tbody tr th {\n",
       "        vertical-align: top;\n",
       "    }\n",
       "\n",
       "    .dataframe thead th {\n",
       "        text-align: right;\n",
       "    }\n",
       "</style>\n",
       "<table border=\"1\" class=\"dataframe\">\n",
       "  <thead>\n",
       "    <tr style=\"text-align: right;\">\n",
       "      <th></th>\n",
       "      <th>id</th>\n",
       "      <th>masterCategory</th>\n",
       "      <th>image</th>\n",
       "    </tr>\n",
       "  </thead>\n",
       "  <tbody>\n",
       "    <tr>\n",
       "      <th>9994</th>\n",
       "      <td>10748</td>\n",
       "      <td>Footwear</td>\n",
       "      <td>[[255, 255, 255, 255, 255, 255, 255, 255, 255,...</td>\n",
       "    </tr>\n",
       "    <tr>\n",
       "      <th>9995</th>\n",
       "      <td>37956</td>\n",
       "      <td>Footwear</td>\n",
       "      <td>[[255, 255, 255, 255, 255, 255, 255, 255, 255,...</td>\n",
       "    </tr>\n",
       "    <tr>\n",
       "      <th>9996</th>\n",
       "      <td>40038</td>\n",
       "      <td>Accessories</td>\n",
       "      <td>[[255, 255, 255, 255, 255, 255, 255, 255, 255,...</td>\n",
       "    </tr>\n",
       "    <tr>\n",
       "      <th>9997</th>\n",
       "      <td>38122</td>\n",
       "      <td>Apparel</td>\n",
       "      <td>[[255, 255, 255, 255, 255, 255, 255, 254, 255,...</td>\n",
       "    </tr>\n",
       "    <tr>\n",
       "      <th>9998</th>\n",
       "      <td>59929</td>\n",
       "      <td>Apparel</td>\n",
       "      <td>[[255, 255, 255, 255, 255, 255, 255, 255, 255,...</td>\n",
       "    </tr>\n",
       "  </tbody>\n",
       "</table>\n",
       "</div>"
      ],
      "text/plain": [
       "         id masterCategory                                              image\n",
       "9994  10748       Footwear  [[255, 255, 255, 255, 255, 255, 255, 255, 255,...\n",
       "9995  37956       Footwear  [[255, 255, 255, 255, 255, 255, 255, 255, 255,...\n",
       "9996  40038    Accessories  [[255, 255, 255, 255, 255, 255, 255, 255, 255,...\n",
       "9997  38122        Apparel  [[255, 255, 255, 255, 255, 255, 255, 254, 255,...\n",
       "9998  59929        Apparel  [[255, 255, 255, 255, 255, 255, 255, 255, 255,..."
      ]
     },
     "execution_count": 6,
     "metadata": {},
     "output_type": "execute_result"
    }
   ],
   "source": [
    "# concatenate based on id\n",
    "data = pd.merge(style, labels_df, how='left', on=['id'])\n",
    "data.dropna(how='any', inplace=True)\n",
    "data.reset_index(drop=True, inplace=True)\n",
    "data.tail()"
   ]
  },
  {
   "cell_type": "code",
   "execution_count": 7,
   "id": "d02f60f6",
   "metadata": {
    "execution": {
     "iopub.execute_input": "2021-08-07T15:11:29.974140Z",
     "iopub.status.busy": "2021-08-07T15:11:29.969038Z",
     "iopub.status.idle": "2021-08-07T15:11:30.565837Z",
     "shell.execute_reply": "2021-08-07T15:11:30.566208Z",
     "shell.execute_reply.started": "2021-08-07T14:07:34.787432Z"
    },
    "id": "fG3c02UWZ_1p",
    "papermill": {
     "duration": 0.636799,
     "end_time": "2021-08-07T15:11:30.566330",
     "exception": false,
     "start_time": "2021-08-07T15:11:29.929531",
     "status": "completed"
    },
    "tags": []
   },
   "outputs": [
    {
     "data": {
      "text/html": [
       "<div>\n",
       "<style scoped>\n",
       "    .dataframe tbody tr th:only-of-type {\n",
       "        vertical-align: middle;\n",
       "    }\n",
       "\n",
       "    .dataframe tbody tr th {\n",
       "        vertical-align: top;\n",
       "    }\n",
       "\n",
       "    .dataframe thead th {\n",
       "        text-align: right;\n",
       "    }\n",
       "</style>\n",
       "<table border=\"1\" class=\"dataframe\">\n",
       "  <thead>\n",
       "    <tr style=\"text-align: right;\">\n",
       "      <th></th>\n",
       "      <th>id</th>\n",
       "      <th>masterCategory</th>\n",
       "      <th>image</th>\n",
       "      <th>label</th>\n",
       "    </tr>\n",
       "  </thead>\n",
       "  <tbody>\n",
       "    <tr>\n",
       "      <th>0</th>\n",
       "      <td>15970</td>\n",
       "      <td>Apparel</td>\n",
       "      <td>[[255, 255, 255, 255, 255, 255, 255, 255, 255,...</td>\n",
       "      <td>1</td>\n",
       "    </tr>\n",
       "    <tr>\n",
       "      <th>1</th>\n",
       "      <td>39386</td>\n",
       "      <td>Apparel</td>\n",
       "      <td>[[255, 255, 255, 255, 255, 255, 255, 255, 247,...</td>\n",
       "      <td>1</td>\n",
       "    </tr>\n",
       "    <tr>\n",
       "      <th>2</th>\n",
       "      <td>59263</td>\n",
       "      <td>Accessories</td>\n",
       "      <td>[[255, 255, 255, 255, 255, 255, 255, 255, 255,...</td>\n",
       "      <td>0</td>\n",
       "    </tr>\n",
       "    <tr>\n",
       "      <th>3</th>\n",
       "      <td>21379</td>\n",
       "      <td>Apparel</td>\n",
       "      <td>[[255, 255, 255, 255, 255, 255, 255, 255, 254,...</td>\n",
       "      <td>1</td>\n",
       "    </tr>\n",
       "    <tr>\n",
       "      <th>4</th>\n",
       "      <td>53759</td>\n",
       "      <td>Apparel</td>\n",
       "      <td>[[255, 255, 255, 255, 255, 255, 255, 255, 255,...</td>\n",
       "      <td>1</td>\n",
       "    </tr>\n",
       "  </tbody>\n",
       "</table>\n",
       "</div>"
      ],
      "text/plain": [
       "      id masterCategory                                              image  \\\n",
       "0  15970        Apparel  [[255, 255, 255, 255, 255, 255, 255, 255, 255,...   \n",
       "1  39386        Apparel  [[255, 255, 255, 255, 255, 255, 255, 255, 247,...   \n",
       "2  59263    Accessories  [[255, 255, 255, 255, 255, 255, 255, 255, 255,...   \n",
       "3  21379        Apparel  [[255, 255, 255, 255, 255, 255, 255, 255, 254,...   \n",
       "4  53759        Apparel  [[255, 255, 255, 255, 255, 255, 255, 255, 255,...   \n",
       "\n",
       "   label  \n",
       "0      1  \n",
       "1      1  \n",
       "2      0  \n",
       "3      1  \n",
       "4      1  "
      ]
     },
     "execution_count": 7,
     "metadata": {},
     "output_type": "execute_result"
    }
   ],
   "source": [
    "# Label Encoder\n",
    "le = LabelEncoder()\n",
    "data['label'] = le.fit_transform(data.masterCategory)\n",
    "data.head()"
   ]
  },
  {
   "cell_type": "markdown",
   "id": "6bb72bc4",
   "metadata": {
    "id": "pcfwixRdXesO",
    "papermill": {
     "duration": 0.013088,
     "end_time": "2021-08-07T15:11:30.592736",
     "exception": false,
     "start_time": "2021-08-07T15:11:30.579648",
     "status": "completed"
    },
    "tags": []
   },
   "source": [
    "### Feature Extraction"
   ]
  },
  {
   "cell_type": "code",
   "execution_count": 8,
   "id": "b3817323",
   "metadata": {
    "execution": {
     "iopub.execute_input": "2021-08-07T15:11:30.638951Z",
     "iopub.status.busy": "2021-08-07T15:11:30.638506Z",
     "iopub.status.idle": "2021-08-07T15:11:30.658704Z",
     "shell.execute_reply": "2021-08-07T15:11:30.659207Z",
     "shell.execute_reply.started": "2021-08-07T14:18:10.649332Z"
    },
    "id": "J4r3gfsoXdok",
    "outputId": "3d5df816-791f-41a2-c46e-e1eea2fffd44",
    "papermill": {
     "duration": 0.053544,
     "end_time": "2021-08-07T15:11:30.659360",
     "exception": false,
     "start_time": "2021-08-07T15:11:30.605816",
     "status": "completed"
    },
    "tags": []
   },
   "outputs": [
    {
     "name": "stdout",
     "output_type": "stream",
     "text": [
      "(9999, 80, 60)\n"
     ]
    }
   ],
   "source": [
    "train_images = np.stack(data.image.values,axis=0)\n",
    "print(train_images.shape)"
   ]
  },
  {
   "cell_type": "code",
   "execution_count": 9,
   "id": "76c9383c",
   "metadata": {
    "execution": {
     "iopub.execute_input": "2021-08-07T15:11:30.743220Z",
     "iopub.status.busy": "2021-08-07T15:11:30.713849Z",
     "iopub.status.idle": "2021-08-07T15:11:30.814510Z",
     "shell.execute_reply": "2021-08-07T15:11:30.813857Z",
     "shell.execute_reply.started": "2021-08-07T14:21:15.642247Z"
    },
    "id": "ZllF-_9DXmxK",
    "outputId": "8b53dc79-9b1e-4ef4-a64b-5cd5473fcb6c",
    "papermill": {
     "duration": 0.134806,
     "end_time": "2021-08-07T15:11:30.814629",
     "exception": false,
     "start_time": "2021-08-07T15:11:30.679823",
     "status": "completed"
    },
    "tags": []
   },
   "outputs": [
    {
     "data": {
      "image/png": "[encoded data removed]",
      "text/plain": [
       "<Figure size 432x288 with 1 Axes>"
      ]
     },
     "metadata": {
      "needs_background": "light"
     },
     "output_type": "display_data"
    }
   ],
   "source": [
    "random_sample = np.random.randint(0,9999)\n",
    "plt.imshow(train_images[random_sample], cmap='gray')\n",
    "plt.title(data.masterCategory[random_sample])\n",
    "plt.show()"
   ]
  },
  {
   "cell_type": "code",
   "execution_count": 10,
   "id": "54c6237b",
   "metadata": {
    "execution": {
     "iopub.execute_input": "2021-08-07T15:11:30.862648Z",
     "iopub.status.busy": "2021-08-07T15:11:30.862185Z",
     "iopub.status.idle": "2021-08-07T15:13:51.788034Z",
     "shell.execute_reply": "2021-08-07T15:13:51.788453Z",
     "shell.execute_reply.started": "2021-08-07T14:28:38.507024Z"
    },
    "id": "13eapoVzXd-0",
    "outputId": "0512d926-4bc4-4ada-bdc9-438abf39e59b",
    "papermill": {
     "duration": 140.952218,
     "end_time": "2021-08-07T15:13:51.788574",
     "exception": false,
     "start_time": "2021-08-07T15:11:30.836356",
     "status": "completed"
    },
    "tags": []
   },
   "outputs": [
    {
     "data": {
      "text/plain": [
       "(9999, 1944)"
      ]
     },
     "execution_count": 10,
     "metadata": {},
     "output_type": "execute_result"
    }
   ],
   "source": [
    "# HOG\n",
    "hog_images = []\n",
    "hog_features = []\n",
    "for i in train_images:\n",
    "    #blur = cv.GaussianBlur(image,(5,5),0)\n",
    "    fd, hog_image = hog(i, orientations=9, \n",
    "                        pixels_per_cell=(8,8),cells_per_block=(2,2), \n",
    "                        block_norm= 'L2', visualize=True)\n",
    "    \n",
    "    hog_images.append(hog_image)\n",
    "    hog_features.append(fd)\n",
    "\n",
    "hog_features = np.array(hog_features)\n",
    "hog_features.shape"
   ]
  },
  {
   "cell_type": "markdown",
   "id": "fe466340",
   "metadata": {
    "id": "YKDvbmXfXQJS",
    "papermill": {
     "duration": 0.014688,
     "end_time": "2021-08-07T15:13:51.818168",
     "exception": false,
     "start_time": "2021-08-07T15:13:51.803480",
     "status": "completed"
    },
    "tags": []
   },
   "source": [
    "### Model"
   ]
  },
  {
   "cell_type": "code",
   "execution_count": 11,
   "id": "8a742c31",
   "metadata": {
    "execution": {
     "iopub.execute_input": "2021-08-07T15:13:51.852256Z",
     "iopub.status.busy": "2021-08-07T15:13:51.851787Z",
     "iopub.status.idle": "2021-08-07T15:13:51.887403Z",
     "shell.execute_reply": "2021-08-07T15:13:51.886702Z",
     "shell.execute_reply.started": "2021-08-07T14:32:00.975913Z"
    },
    "id": "8MCR-aHuVwJf",
    "outputId": "e1a60151-2673-4a21-8983-c2e613ba436e",
    "papermill": {
     "duration": 0.054578,
     "end_time": "2021-08-07T15:13:51.887569",
     "exception": false,
     "start_time": "2021-08-07T15:13:51.832991",
     "status": "completed"
    },
    "tags": []
   },
   "outputs": [
    {
     "name": "stdout",
     "output_type": "stream",
     "text": [
      "(7999, 1944)\n",
      "(2000, 1944)\n"
     ]
    }
   ],
   "source": [
    "x_train, x_test, y_train, y_test = train_test_split(hog_features, data.label, \n",
    "                                                    stratify=data.label, \n",
    "                                                    test_size=.2,shuffle=True)\n",
    "print(x_train.shape)\n",
    "print(x_test.shape)"
   ]
  },
  {
   "cell_type": "code",
   "execution_count": 12,
   "id": "9be6f828",
   "metadata": {
    "execution": {
     "iopub.execute_input": "2021-08-07T15:13:51.938075Z",
     "iopub.status.busy": "2021-08-07T15:13:51.937477Z",
     "iopub.status.idle": "2021-08-07T15:19:42.317727Z",
     "shell.execute_reply": "2021-08-07T15:19:42.318234Z",
     "shell.execute_reply.started": "2021-08-07T14:32:01.063704Z"
    },
    "id": "iywy9X1eVwBv",
    "outputId": "8dd762ba-3bf0-4333-9eb7-c69c14ca71ab",
    "papermill": {
     "duration": 350.407928,
     "end_time": "2021-08-07T15:19:42.318377",
     "exception": false,
     "start_time": "2021-08-07T15:13:51.910449",
     "status": "completed"
    },
    "tags": []
   },
   "outputs": [
    {
     "name": "stderr",
     "output_type": "stream",
     "text": [
      "/opt/conda/lib/python3.7/site-packages/sklearn/model_selection/_split.py:672: UserWarning: The least populated class in y has only 3 members, which is less than n_splits=10.\n",
      "  % (min_groups, self.n_splits)), UserWarning)\n"
     ]
    },
    {
     "name": "stdout",
     "output_type": "stream",
     "text": [
      "Elapsed 350.355 seconds.\n"
     ]
    }
   ],
   "source": [
    "# SVM\n",
    "start = time.perf_counter()\n",
    "# Validation\n",
    "svm = SVC()\n",
    "cv = StratifiedKFold(n_splits=10)\n",
    "validation = cross_val_score(svm, x_train, y_train, cv=cv, scoring='accuracy', n_jobs=-1)\n",
    "\n",
    "# Training\n",
    "svm = SVC(probability=True)\n",
    "svm.fit(x_train, y_train)\n",
    "y_pred_train = svm.predict(x_train)\n",
    "y_pred_test = svm.predict(x_test)    # Testing\n",
    "\n",
    "elapsed = time.perf_counter() - start\n",
    "print('Elapsed %.3f seconds.' % elapsed)"
   ]
  },
  {
   "cell_type": "code",
   "execution_count": 13,
   "id": "73d2ea0d",
   "metadata": {
    "execution": {
     "iopub.execute_input": "2021-08-07T15:19:42.370140Z",
     "iopub.status.busy": "2021-08-07T15:19:42.369532Z",
     "iopub.status.idle": "2021-08-07T15:19:42.389528Z",
     "shell.execute_reply": "2021-08-07T15:19:42.388941Z",
     "shell.execute_reply.started": "2021-08-07T14:40:54.708332Z"
    },
    "papermill": {
     "duration": 0.04839,
     "end_time": "2021-08-07T15:19:42.389640",
     "exception": false,
     "start_time": "2021-08-07T15:19:42.341250",
     "status": "completed"
    },
    "tags": []
   },
   "outputs": [
    {
     "name": "stdout",
     "output_type": "stream",
     "text": [
      "Accuracy_Val : 0.9799\n",
      "\n",
      "Accuracy_test : 0.9810 Precision_test : 0.7823 Recall_test : 0.7809 F1-Score : 0.7816\n",
      "\n",
      "classification report testing : \n",
      "               precision    recall  f1-score   support\n",
      "\n",
      "           0       0.97      0.97      0.97       507\n",
      "           1       0.98      0.99      0.99       966\n",
      "           2       1.00      0.99      1.00       415\n",
      "           3       0.00      0.00      0.00         5\n",
      "           4       0.96      0.95      0.96       107\n",
      "\n",
      "    accuracy                           0.98      2000\n",
      "   macro avg       0.78      0.78      0.78      2000\n",
      "weighted avg       0.98      0.98      0.98      2000\n",
      "\n",
      "Elapsed 350.355 seconds.\n"
     ]
    },
    {
     "name": "stderr",
     "output_type": "stream",
     "text": [
      "/opt/conda/lib/python3.7/site-packages/sklearn/metrics/_classification.py:1221: UndefinedMetricWarning: Precision is ill-defined and being set to 0.0 in labels with no predicted samples. Use `zero_division` parameter to control this behavior.\n",
      "  _warn_prf(average, modifier, msg_start, len(result))\n",
      "/opt/conda/lib/python3.7/site-packages/sklearn/metrics/_classification.py:1221: UndefinedMetricWarning: Precision and F-score are ill-defined and being set to 0.0 in labels with no predicted samples. Use `zero_division` parameter to control this behavior.\n",
      "  _warn_prf(average, modifier, msg_start, len(result))\n"
     ]
    }
   ],
   "source": [
    "print('Accuracy_Val : {:.4f}\\n'.format(validation.mean()))\n",
    "\n",
    "print('Accuracy_test : {:.4f}'.format(accuracy_score(y_test, y_pred_test)), \n",
    "      'Precision_test : {:.4f}'.format(precision_score(y_test, y_pred_test, average='macro')), \n",
    "      'Recall_test : {:.4f}'.format(recall_score(y_test, y_pred_test, average='macro')), \n",
    "      'F1-Score : {:.4f}'.format(f1_score(y_test, y_pred_test, average='macro')))\n",
    "\n",
    "# Classification report\n",
    "from sklearn.metrics import classification_report\n",
    "#target_names = ['Apparel', 'Accessories', 'Footwear', 'Personal Care', 'Free Items', 'Sporting Goods']\n",
    "print('\\nclassification report testing : \\n', classification_report(y_test, y_pred_test))\n",
    "\n",
    "#print('\\nPR_AUC crackles: %.3f' % auc_score_svm)\n",
    "print('Elapsed %.3f seconds.' % elapsed)"
   ]
  },
  {
   "cell_type": "code",
   "execution_count": null,
   "id": "1ef386e6",
   "metadata": {
    "id": "B51KoH7Fw3h7",
    "papermill": {
     "duration": 0.023463,
     "end_time": "2021-08-07T15:19:42.436856",
     "exception": false,
     "start_time": "2021-08-07T15:19:42.413393",
     "status": "completed"
    },
    "tags": []
   },
   "outputs": [],
   "source": []
  }
 ],
 "metadata": {
  "kernelspec": {
   "display_name": "Python 3",
   "language": "python",
   "name": "python3"
  },
  "language_info": {
   "codemirror_mode": {
    "name": "ipython",
    "version": 3
   },
   "file_extension": ".py",
   "mimetype": "text/x-python",
   "name": "python",
   "nbconvert_exporter": "python",
   "pygments_lexer": "ipython3",
   "version": "3.7.10"
  },
  "papermill": {
   "default_parameters": {},
   "duration": 793.845526,
   "end_time": "2021-08-07T15:19:43.893874",
   "environment_variables": {},
   "exception": null,
   "input_path": "__notebook__.ipynb",
   "output_path": "__notebook__.ipynb",
   "parameters": {},
   "start_time": "2021-08-07T15:06:30.048348",
   "version": "2.3.3"
  }
 },
 "nbformat": 4,
 "nbformat_minor": 5
}
